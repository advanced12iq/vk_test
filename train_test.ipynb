{
 "cells": [
  {
   "cell_type": "code",
   "execution_count": 12,
   "metadata": {},
   "outputs": [
    {
     "name": "stdout",
     "output_type": "stream",
     "text": [
      "The autoreload extension is already loaded. To reload it, use:\n",
      "  %reload_ext autoreload\n"
     ]
    }
   ],
   "source": [
    "%load_ext autoreload\n",
    "%autoreload 2\n",
    "\n",
    "import os\n",
    "import subprocess\n",
    "import numpy as np\n",
    "import matplotlib.pyplot as plt\n",
    "import torch\n",
    "from PIL import Image\n",
    "\n",
    "# Path Configuration (Update these according to your setup)\n",
    "NOTEBOOK_ROOT = os.getcwd()\n",
    "DATA_ROOT = os.path.join(NOTEBOOK_ROOT, \"data\")\n",
    "MODEL_ROOT = os.path.join(NOTEBOOK_ROOT, \"models\")"
   ]
  },
  {
   "cell_type": "code",
   "execution_count": 16,
   "metadata": {},
   "outputs": [
    {
     "name": "stdout",
     "output_type": "stream",
     "text": [
      "Preprocessing data...\n",
      "c:\\Users\\kkras\\vk\\vk_test\\data\\processed\\train_product_crops.npy file exists.\n",
      "c:\\Users\\kkras\\vk\\vk_test\\data\\processed\\train_logo_images.npy file exists.\n",
      "c:\\Users\\kkras\\vk\\vk_test\\data\\processed\\val_product_crops.npy file exists.\n",
      "c:\\Users\\kkras\\vk\\vk_test\\data\\processed\\val_logo_images.npy file exists.\n",
      "Model saved to c:\\Users\\kkras\\vk\\vk_test\\models\\siamese_model20250203_173929.pt\n",
      "\n",
      "Training completed successfully!\n",
      "CPU times: total: 0 ns\n",
      "Wall time: 7.48 s\n"
     ]
    }
   ],
   "source": [
    "%%time\n",
    "# Convert parameters to command-line arguments\n",
    "cmd = [\n",
    "    \"python\", \"train.py\",\n",
    "]\n",
    "\n",
    "# Run training process\n",
    "process = subprocess.Popen(\n",
    "    cmd, \n",
    "    stdout=subprocess.PIPE,\n",
    "    stderr=subprocess.STDOUT,\n",
    "    universal_newlines=True\n",
    ")\n",
    "\n",
    "# Print real-time output\n",
    "with process.stdout:\n",
    "    for line in iter(process.stdout.readline, ''):\n",
    "        print(line, end='')\n",
    "\n",
    "exit_code = process.wait()\n",
    "if exit_code != 0:\n",
    "    print(f\"\\nTraining failed with exit code {exit_code}\")\n",
    "else:\n",
    "    print(\"\\nTraining completed successfully!\")"
   ]
  }
 ],
 "metadata": {
  "kernelspec": {
   "display_name": "Python 3",
   "language": "python",
   "name": "python3"
  },
  "language_info": {
   "codemirror_mode": {
    "name": "ipython",
    "version": 3
   },
   "file_extension": ".py",
   "mimetype": "text/x-python",
   "name": "python",
   "nbconvert_exporter": "python",
   "pygments_lexer": "ipython3",
   "version": "3.12.0"
  }
 },
 "nbformat": 4,
 "nbformat_minor": 2
}
